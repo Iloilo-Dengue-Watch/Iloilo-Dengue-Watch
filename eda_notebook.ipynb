{
 "cells": [
  {
   "cell_type": "code",
   "id": "initial_id",
   "metadata": {
    "collapsed": true,
    "ExecuteTime": {
     "end_time": "2024-08-09T19:42:02.481771Z",
     "start_time": "2024-08-09T19:42:02.373004Z"
    }
   },
   "source": [
    "import pandas as pd\n",
    "import numpy as np\n",
    "import matplotlib.pyplot as plt\n",
    "from skimpy import skim\n",
    "import seaborn as sns"
   ],
   "outputs": [],
   "execution_count": 39
  },
  {
   "metadata": {
    "ExecuteTime": {
     "end_time": "2024-08-09T19:41:09.668637Z",
     "start_time": "2024-08-09T19:41:09.656354Z"
    }
   },
   "cell_type": "code",
   "source": [
    "# Load the data\n",
    "file = \"data/dengue/hdx/doh-epi-dengue-cases-2016.csv\"\n",
    "df = pd.read_csv(file, skiprows=[1,2])\n",
    "df.head()"
   ],
   "id": "8831b49cf55d8b69",
   "outputs": [
    {
     "data": {
      "text/plain": [
       "     loc  cases  deaths        date                 Region  year\n",
       "0  ALBAY     13       0  17/01/2016  REGION V-BICOL REGION  2016\n",
       "1  ALBAY      9       0  24/01/2016  REGION V-BICOL REGION  2016\n",
       "2  ALBAY     14       0  31/01/2016  REGION V-BICOL REGION  2016\n",
       "3  ALBAY      9       0  07/02/2016  REGION V-BICOL REGION  2016\n",
       "4  ALBAY     17       0  14/02/2016  REGION V-BICOL REGION  2016"
      ],
      "text/html": [
       "<div>\n",
       "<style scoped>\n",
       "    .dataframe tbody tr th:only-of-type {\n",
       "        vertical-align: middle;\n",
       "    }\n",
       "\n",
       "    .dataframe tbody tr th {\n",
       "        vertical-align: top;\n",
       "    }\n",
       "\n",
       "    .dataframe thead th {\n",
       "        text-align: right;\n",
       "    }\n",
       "</style>\n",
       "<table border=\"1\" class=\"dataframe\">\n",
       "  <thead>\n",
       "    <tr style=\"text-align: right;\">\n",
       "      <th></th>\n",
       "      <th>loc</th>\n",
       "      <th>cases</th>\n",
       "      <th>deaths</th>\n",
       "      <th>date</th>\n",
       "      <th>Region</th>\n",
       "      <th>year</th>\n",
       "    </tr>\n",
       "  </thead>\n",
       "  <tbody>\n",
       "    <tr>\n",
       "      <th>0</th>\n",
       "      <td>ALBAY</td>\n",
       "      <td>13</td>\n",
       "      <td>0</td>\n",
       "      <td>17/01/2016</td>\n",
       "      <td>REGION V-BICOL REGION</td>\n",
       "      <td>2016</td>\n",
       "    </tr>\n",
       "    <tr>\n",
       "      <th>1</th>\n",
       "      <td>ALBAY</td>\n",
       "      <td>9</td>\n",
       "      <td>0</td>\n",
       "      <td>24/01/2016</td>\n",
       "      <td>REGION V-BICOL REGION</td>\n",
       "      <td>2016</td>\n",
       "    </tr>\n",
       "    <tr>\n",
       "      <th>2</th>\n",
       "      <td>ALBAY</td>\n",
       "      <td>14</td>\n",
       "      <td>0</td>\n",
       "      <td>31/01/2016</td>\n",
       "      <td>REGION V-BICOL REGION</td>\n",
       "      <td>2016</td>\n",
       "    </tr>\n",
       "    <tr>\n",
       "      <th>3</th>\n",
       "      <td>ALBAY</td>\n",
       "      <td>9</td>\n",
       "      <td>0</td>\n",
       "      <td>07/02/2016</td>\n",
       "      <td>REGION V-BICOL REGION</td>\n",
       "      <td>2016</td>\n",
       "    </tr>\n",
       "    <tr>\n",
       "      <th>4</th>\n",
       "      <td>ALBAY</td>\n",
       "      <td>17</td>\n",
       "      <td>0</td>\n",
       "      <td>14/02/2016</td>\n",
       "      <td>REGION V-BICOL REGION</td>\n",
       "      <td>2016</td>\n",
       "    </tr>\n",
       "  </tbody>\n",
       "</table>\n",
       "</div>"
      ]
     },
     "execution_count": 35,
     "metadata": {},
     "output_type": "execute_result"
    }
   ],
   "execution_count": 35
  },
  {
   "metadata": {
    "ExecuteTime": {
     "end_time": "2024-08-09T19:41:18.020611Z",
     "start_time": "2024-08-09T19:41:18.001097Z"
    }
   },
   "cell_type": "code",
   "source": [
    "df.info()\n",
    "# Fix data type of column\n",
    "numerical_columns = ['cases', 'deaths']\n",
    "df[numerical_columns] = df[numerical_columns].apply(pd.to_numeric, errors='coerce')\n",
    "df['date'] = pd.to_datetime(df['date'], format = \"%d/%m/%Y\")\n",
    "df.info()"
   ],
   "id": "a341c0e6ff00dcf1",
   "outputs": [
    {
     "name": "stdout",
     "output_type": "stream",
     "text": [
      "<class 'pandas.core.frame.DataFrame'>\n",
      "RangeIndex: 6328 entries, 0 to 6327\n",
      "Data columns (total 6 columns):\n",
      " #   Column  Non-Null Count  Dtype \n",
      "---  ------  --------------  ----- \n",
      " 0   loc     6328 non-null   object\n",
      " 1   cases   6328 non-null   int64 \n",
      " 2   deaths  6328 non-null   int64 \n",
      " 3   date    6328 non-null   object\n",
      " 4   Region  6328 non-null   object\n",
      " 5   year    6328 non-null   int64 \n",
      "dtypes: int64(3), object(3)\n",
      "memory usage: 296.8+ KB\n",
      "<class 'pandas.core.frame.DataFrame'>\n",
      "RangeIndex: 6328 entries, 0 to 6327\n",
      "Data columns (total 6 columns):\n",
      " #   Column  Non-Null Count  Dtype         \n",
      "---  ------  --------------  -----         \n",
      " 0   loc     6328 non-null   object        \n",
      " 1   cases   6328 non-null   int64         \n",
      " 2   deaths  6328 non-null   int64         \n",
      " 3   date    6328 non-null   datetime64[ns]\n",
      " 4   Region  6328 non-null   object        \n",
      " 5   year    6328 non-null   int64         \n",
      "dtypes: datetime64[ns](1), int64(3), object(2)\n",
      "memory usage: 296.8+ KB\n"
     ]
    }
   ],
   "execution_count": 36
  },
  {
   "metadata": {
    "ExecuteTime": {
     "end_time": "2024-08-09T19:41:28.541365Z",
     "start_time": "2024-08-09T19:41:28.473990Z"
    }
   },
   "cell_type": "code",
   "source": "skim(df)",
   "id": "db9430fb429840a8",
   "outputs": [
    {
     "data": {
      "text/plain": [
       "╭──────────────────────────────────────────────── skimpy summary ─────────────────────────────────────────────────╮\n",
       "│ \u001B[3m         Data Summary         \u001B[0m \u001B[3m      Data Types       \u001B[0m                                                          │\n",
       "│ ┏━━━━━━━━━━━━━━━━━━━┳━━━━━━━━┓ ┏━━━━━━━━━━━━━┳━━━━━━━┓                                                          │\n",
       "│ ┃\u001B[1;36m \u001B[0m\u001B[1;36mdataframe        \u001B[0m\u001B[1;36m \u001B[0m┃\u001B[1;36m \u001B[0m\u001B[1;36mValues\u001B[0m\u001B[1;36m \u001B[0m┃ ┃\u001B[1;36m \u001B[0m\u001B[1;36mColumn Type\u001B[0m\u001B[1;36m \u001B[0m┃\u001B[1;36m \u001B[0m\u001B[1;36mCount\u001B[0m\u001B[1;36m \u001B[0m┃                                                          │\n",
       "│ ┡━━━━━━━━━━━━━━━━━━━╇━━━━━━━━┩ ┡━━━━━━━━━━━━━╇━━━━━━━┩                                                          │\n",
       "│ │ Number of rows    │ 6328   │ │ int64       │ 3     │                                                          │\n",
       "│ │ Number of columns │ 6      │ │ string      │ 2     │                                                          │\n",
       "│ └───────────────────┴────────┘ │ datetime64  │ 1     │                                                          │\n",
       "│                                └─────────────┴───────┘                                                          │\n",
       "│ \u001B[3m                                                    number                                                    \u001B[0m  │\n",
       "│ ┏━━━━━━━━━━━━━━━━━┳━━━━━━┳━━━━━━━━┳━━━━━━━━━━┳━━━━━━━━━┳━━━━━━━━┳━━━━━━━━┳━━━━━━━━┳━━━━━━━━┳━━━━━━━┳━━━━━━━━━┓  │\n",
       "│ ┃\u001B[1m \u001B[0m\u001B[1mcolumn_name    \u001B[0m\u001B[1m \u001B[0m┃\u001B[1m \u001B[0m\u001B[1mNA  \u001B[0m\u001B[1m \u001B[0m┃\u001B[1m \u001B[0m\u001B[1mNA %  \u001B[0m\u001B[1m \u001B[0m┃\u001B[1m \u001B[0m\u001B[1mmean    \u001B[0m\u001B[1m \u001B[0m┃\u001B[1m \u001B[0m\u001B[1msd     \u001B[0m\u001B[1m \u001B[0m┃\u001B[1m \u001B[0m\u001B[1mp0    \u001B[0m\u001B[1m \u001B[0m┃\u001B[1m \u001B[0m\u001B[1mp25   \u001B[0m\u001B[1m \u001B[0m┃\u001B[1m \u001B[0m\u001B[1mp50   \u001B[0m\u001B[1m \u001B[0m┃\u001B[1m \u001B[0m\u001B[1mp75   \u001B[0m\u001B[1m \u001B[0m┃\u001B[1m \u001B[0m\u001B[1mp100 \u001B[0m\u001B[1m \u001B[0m┃\u001B[1m \u001B[0m\u001B[1mhist   \u001B[0m\u001B[1m \u001B[0m┃  │\n",
       "│ ┡━━━━━━━━━━━━━━━━━╇━━━━━━╇━━━━━━━━╇━━━━━━━━━━╇━━━━━━━━━╇━━━━━━━━╇━━━━━━━━╇━━━━━━━━╇━━━━━━━━╇━━━━━━━╇━━━━━━━━━┩  │\n",
       "│ │ \u001B[38;5;141mcases          \u001B[0m │ \u001B[36m   0\u001B[0m │ \u001B[36m     0\u001B[0m │ \u001B[36m   33.11\u001B[0m │ \u001B[36m  57.39\u001B[0m │ \u001B[36m     0\u001B[0m │ \u001B[36m     5\u001B[0m │ \u001B[36m    14\u001B[0m │ \u001B[36m    37\u001B[0m │ \u001B[36m  934\u001B[0m │ \u001B[32m   ▇   \u001B[0m │  │\n",
       "│ │ \u001B[38;5;141mdeaths         \u001B[0m │ \u001B[36m   0\u001B[0m │ \u001B[36m     0\u001B[0m │ \u001B[36m   1.284\u001B[0m │ \u001B[36m  9.503\u001B[0m │ \u001B[36m     0\u001B[0m │ \u001B[36m     0\u001B[0m │ \u001B[36m     0\u001B[0m │ \u001B[36m     0\u001B[0m │ \u001B[36m  205\u001B[0m │ \u001B[32m   ▇   \u001B[0m │  │\n",
       "│ │ \u001B[38;5;141myear           \u001B[0m │ \u001B[36m   0\u001B[0m │ \u001B[36m     0\u001B[0m │ \u001B[36m    2016\u001B[0m │ \u001B[36m      0\u001B[0m │ \u001B[36m  2016\u001B[0m │ \u001B[36m  2016\u001B[0m │ \u001B[36m  2016\u001B[0m │ \u001B[36m  2016\u001B[0m │ \u001B[36m 2016\u001B[0m │ \u001B[32m    ▇  \u001B[0m │  │\n",
       "│ └─────────────────┴──────┴────────┴──────────┴─────────┴────────┴────────┴────────┴────────┴───────┴─────────┘  │\n",
       "│ \u001B[3m                                                   datetime                                                   \u001B[0m  │\n",
       "│ ┏━━━━━━━━━━━━━━━━━━━━━━━━┳━━━━━━━━┳━━━━━━━━━━━┳━━━━━━━━━━━━━━━━━━━━━┳━━━━━━━━━━━━━━━━━━━━━┳━━━━━━━━━━━━━━━━━━┓  │\n",
       "│ ┃\u001B[1m \u001B[0m\u001B[1mcolumn_name           \u001B[0m\u001B[1m \u001B[0m┃\u001B[1m \u001B[0m\u001B[1mNA    \u001B[0m\u001B[1m \u001B[0m┃\u001B[1m \u001B[0m\u001B[1mNA %     \u001B[0m\u001B[1m \u001B[0m┃\u001B[1m \u001B[0m\u001B[1mfirst              \u001B[0m\u001B[1m \u001B[0m┃\u001B[1m \u001B[0m\u001B[1mlast               \u001B[0m\u001B[1m \u001B[0m┃\u001B[1m \u001B[0m\u001B[1mfrequency       \u001B[0m\u001B[1m \u001B[0m┃  │\n",
       "│ ┡━━━━━━━━━━━━━━━━━━━━━━━━╇━━━━━━━━╇━━━━━━━━━━━╇━━━━━━━━━━━━━━━━━━━━━╇━━━━━━━━━━━━━━━━━━━━━╇━━━━━━━━━━━━━━━━━━┩  │\n",
       "│ │ \u001B[38;5;141mdate                  \u001B[0m │ \u001B[36m     0\u001B[0m │ \u001B[36m        0\u001B[0m │ \u001B[31m    2016-01-10     \u001B[0m │ \u001B[31m    2016-12-25     \u001B[0m │ \u001B[38;5;141mNone            \u001B[0m │  │\n",
       "│ └────────────────────────┴────────┴───────────┴─────────────────────┴─────────────────────┴──────────────────┘  │\n",
       "│ \u001B[3m                                                    string                                                    \u001B[0m  │\n",
       "│ ┏━━━━━━━━━━━━━━━━━━━━━━━━━━━┳━━━━━━━━━┳━━━━━━━━━━━━┳━━━━━━━━━━━━━━━━━━━━━━━━━━━━━━┳━━━━━━━━━━━━━━━━━━━━━━━━━━┓  │\n",
       "│ ┃\u001B[1m \u001B[0m\u001B[1mcolumn_name              \u001B[0m\u001B[1m \u001B[0m┃\u001B[1m \u001B[0m\u001B[1mNA     \u001B[0m\u001B[1m \u001B[0m┃\u001B[1m \u001B[0m\u001B[1mNA %      \u001B[0m\u001B[1m \u001B[0m┃\u001B[1m \u001B[0m\u001B[1mwords per row               \u001B[0m\u001B[1m \u001B[0m┃\u001B[1m \u001B[0m\u001B[1mtotal words             \u001B[0m\u001B[1m \u001B[0m┃  │\n",
       "│ ┡━━━━━━━━━━━━━━━━━━━━━━━━━━━╇━━━━━━━━━╇━━━━━━━━━━━━╇━━━━━━━━━━━━━━━━━━━━━━━━━━━━━━╇━━━━━━━━━━━━━━━━━━━━━━━━━━┩  │\n",
       "│ │ \u001B[38;5;141mloc                      \u001B[0m │ \u001B[36m      0\u001B[0m │ \u001B[36m         0\u001B[0m │ \u001B[36m                         1.8\u001B[0m │ \u001B[36m                   11181\u001B[0m │  │\n",
       "│ │ \u001B[38;5;141mRegion                   \u001B[0m │ \u001B[36m      0\u001B[0m │ \u001B[36m         0\u001B[0m │ \u001B[36m                         2.5\u001B[0m │ \u001B[36m                   15772\u001B[0m │  │\n",
       "│ └───────────────────────────┴─────────┴────────────┴──────────────────────────────┴──────────────────────────┘  │\n",
       "╰────────────────────────────────────────────────────── End ──────────────────────────────────────────────────────╯\n"
      ],
      "text/html": [
       "<pre style=\"white-space:pre;overflow-x:auto;line-height:normal;font-family:Menlo,'DejaVu Sans Mono',consolas,'Courier New',monospace\">╭──────────────────────────────────────────────── skimpy summary ─────────────────────────────────────────────────╮\n",
       "│ <span style=\"font-style: italic\">         Data Summary         </span> <span style=\"font-style: italic\">      Data Types       </span>                                                          │\n",
       "│ ┏━━━━━━━━━━━━━━━━━━━┳━━━━━━━━┓ ┏━━━━━━━━━━━━━┳━━━━━━━┓                                                          │\n",
       "│ ┃<span style=\"color: #008080; text-decoration-color: #008080; font-weight: bold\"> dataframe         </span>┃<span style=\"color: #008080; text-decoration-color: #008080; font-weight: bold\"> Values </span>┃ ┃<span style=\"color: #008080; text-decoration-color: #008080; font-weight: bold\"> Column Type </span>┃<span style=\"color: #008080; text-decoration-color: #008080; font-weight: bold\"> Count </span>┃                                                          │\n",
       "│ ┡━━━━━━━━━━━━━━━━━━━╇━━━━━━━━┩ ┡━━━━━━━━━━━━━╇━━━━━━━┩                                                          │\n",
       "│ │ Number of rows    │ 6328   │ │ int64       │ 3     │                                                          │\n",
       "│ │ Number of columns │ 6      │ │ string      │ 2     │                                                          │\n",
       "│ └───────────────────┴────────┘ │ datetime64  │ 1     │                                                          │\n",
       "│                                └─────────────┴───────┘                                                          │\n",
       "│ <span style=\"font-style: italic\">                                                    number                                                    </span>  │\n",
       "│ ┏━━━━━━━━━━━━━━━━━┳━━━━━━┳━━━━━━━━┳━━━━━━━━━━┳━━━━━━━━━┳━━━━━━━━┳━━━━━━━━┳━━━━━━━━┳━━━━━━━━┳━━━━━━━┳━━━━━━━━━┓  │\n",
       "│ ┃<span style=\"font-weight: bold\"> column_name     </span>┃<span style=\"font-weight: bold\"> NA   </span>┃<span style=\"font-weight: bold\"> NA %   </span>┃<span style=\"font-weight: bold\"> mean     </span>┃<span style=\"font-weight: bold\"> sd      </span>┃<span style=\"font-weight: bold\"> p0     </span>┃<span style=\"font-weight: bold\"> p25    </span>┃<span style=\"font-weight: bold\"> p50    </span>┃<span style=\"font-weight: bold\"> p75    </span>┃<span style=\"font-weight: bold\"> p100  </span>┃<span style=\"font-weight: bold\"> hist    </span>┃  │\n",
       "│ ┡━━━━━━━━━━━━━━━━━╇━━━━━━╇━━━━━━━━╇━━━━━━━━━━╇━━━━━━━━━╇━━━━━━━━╇━━━━━━━━╇━━━━━━━━╇━━━━━━━━╇━━━━━━━╇━━━━━━━━━┩  │\n",
       "│ │ <span style=\"color: #af87ff; text-decoration-color: #af87ff\">cases          </span> │ <span style=\"color: #008080; text-decoration-color: #008080\">   0</span> │ <span style=\"color: #008080; text-decoration-color: #008080\">     0</span> │ <span style=\"color: #008080; text-decoration-color: #008080\">   33.11</span> │ <span style=\"color: #008080; text-decoration-color: #008080\">  57.39</span> │ <span style=\"color: #008080; text-decoration-color: #008080\">     0</span> │ <span style=\"color: #008080; text-decoration-color: #008080\">     5</span> │ <span style=\"color: #008080; text-decoration-color: #008080\">    14</span> │ <span style=\"color: #008080; text-decoration-color: #008080\">    37</span> │ <span style=\"color: #008080; text-decoration-color: #008080\">  934</span> │ <span style=\"color: #008000; text-decoration-color: #008000\">   ▇   </span> │  │\n",
       "│ │ <span style=\"color: #af87ff; text-decoration-color: #af87ff\">deaths         </span> │ <span style=\"color: #008080; text-decoration-color: #008080\">   0</span> │ <span style=\"color: #008080; text-decoration-color: #008080\">     0</span> │ <span style=\"color: #008080; text-decoration-color: #008080\">   1.284</span> │ <span style=\"color: #008080; text-decoration-color: #008080\">  9.503</span> │ <span style=\"color: #008080; text-decoration-color: #008080\">     0</span> │ <span style=\"color: #008080; text-decoration-color: #008080\">     0</span> │ <span style=\"color: #008080; text-decoration-color: #008080\">     0</span> │ <span style=\"color: #008080; text-decoration-color: #008080\">     0</span> │ <span style=\"color: #008080; text-decoration-color: #008080\">  205</span> │ <span style=\"color: #008000; text-decoration-color: #008000\">   ▇   </span> │  │\n",
       "│ │ <span style=\"color: #af87ff; text-decoration-color: #af87ff\">year           </span> │ <span style=\"color: #008080; text-decoration-color: #008080\">   0</span> │ <span style=\"color: #008080; text-decoration-color: #008080\">     0</span> │ <span style=\"color: #008080; text-decoration-color: #008080\">    2016</span> │ <span style=\"color: #008080; text-decoration-color: #008080\">      0</span> │ <span style=\"color: #008080; text-decoration-color: #008080\">  2016</span> │ <span style=\"color: #008080; text-decoration-color: #008080\">  2016</span> │ <span style=\"color: #008080; text-decoration-color: #008080\">  2016</span> │ <span style=\"color: #008080; text-decoration-color: #008080\">  2016</span> │ <span style=\"color: #008080; text-decoration-color: #008080\"> 2016</span> │ <span style=\"color: #008000; text-decoration-color: #008000\">    ▇  </span> │  │\n",
       "│ └─────────────────┴──────┴────────┴──────────┴─────────┴────────┴────────┴────────┴────────┴───────┴─────────┘  │\n",
       "│ <span style=\"font-style: italic\">                                                   datetime                                                   </span>  │\n",
       "│ ┏━━━━━━━━━━━━━━━━━━━━━━━━┳━━━━━━━━┳━━━━━━━━━━━┳━━━━━━━━━━━━━━━━━━━━━┳━━━━━━━━━━━━━━━━━━━━━┳━━━━━━━━━━━━━━━━━━┓  │\n",
       "│ ┃<span style=\"font-weight: bold\"> column_name            </span>┃<span style=\"font-weight: bold\"> NA     </span>┃<span style=\"font-weight: bold\"> NA %      </span>┃<span style=\"font-weight: bold\"> first               </span>┃<span style=\"font-weight: bold\"> last                </span>┃<span style=\"font-weight: bold\"> frequency        </span>┃  │\n",
       "│ ┡━━━━━━━━━━━━━━━━━━━━━━━━╇━━━━━━━━╇━━━━━━━━━━━╇━━━━━━━━━━━━━━━━━━━━━╇━━━━━━━━━━━━━━━━━━━━━╇━━━━━━━━━━━━━━━━━━┩  │\n",
       "│ │ <span style=\"color: #af87ff; text-decoration-color: #af87ff\">date                  </span> │ <span style=\"color: #008080; text-decoration-color: #008080\">     0</span> │ <span style=\"color: #008080; text-decoration-color: #008080\">        0</span> │ <span style=\"color: #800000; text-decoration-color: #800000\">    2016-01-10     </span> │ <span style=\"color: #800000; text-decoration-color: #800000\">    2016-12-25     </span> │ <span style=\"color: #af87ff; text-decoration-color: #af87ff\">None            </span> │  │\n",
       "│ └────────────────────────┴────────┴───────────┴─────────────────────┴─────────────────────┴──────────────────┘  │\n",
       "│ <span style=\"font-style: italic\">                                                    string                                                    </span>  │\n",
       "│ ┏━━━━━━━━━━━━━━━━━━━━━━━━━━━┳━━━━━━━━━┳━━━━━━━━━━━━┳━━━━━━━━━━━━━━━━━━━━━━━━━━━━━━┳━━━━━━━━━━━━━━━━━━━━━━━━━━┓  │\n",
       "│ ┃<span style=\"font-weight: bold\"> column_name               </span>┃<span style=\"font-weight: bold\"> NA      </span>┃<span style=\"font-weight: bold\"> NA %       </span>┃<span style=\"font-weight: bold\"> words per row                </span>┃<span style=\"font-weight: bold\"> total words              </span>┃  │\n",
       "│ ┡━━━━━━━━━━━━━━━━━━━━━━━━━━━╇━━━━━━━━━╇━━━━━━━━━━━━╇━━━━━━━━━━━━━━━━━━━━━━━━━━━━━━╇━━━━━━━━━━━━━━━━━━━━━━━━━━┩  │\n",
       "│ │ <span style=\"color: #af87ff; text-decoration-color: #af87ff\">loc                      </span> │ <span style=\"color: #008080; text-decoration-color: #008080\">      0</span> │ <span style=\"color: #008080; text-decoration-color: #008080\">         0</span> │ <span style=\"color: #008080; text-decoration-color: #008080\">                         1.8</span> │ <span style=\"color: #008080; text-decoration-color: #008080\">                   11181</span> │  │\n",
       "│ │ <span style=\"color: #af87ff; text-decoration-color: #af87ff\">Region                   </span> │ <span style=\"color: #008080; text-decoration-color: #008080\">      0</span> │ <span style=\"color: #008080; text-decoration-color: #008080\">         0</span> │ <span style=\"color: #008080; text-decoration-color: #008080\">                         2.5</span> │ <span style=\"color: #008080; text-decoration-color: #008080\">                   15772</span> │  │\n",
       "│ └───────────────────────────┴─────────┴────────────┴──────────────────────────────┴──────────────────────────┘  │\n",
       "╰────────────────────────────────────────────────────── End ──────────────────────────────────────────────────────╯\n",
       "</pre>\n"
      ]
     },
     "metadata": {},
     "output_type": "display_data"
    }
   ],
   "execution_count": 37
  },
  {
   "metadata": {
    "ExecuteTime": {
     "end_time": "2024-08-09T19:42:36.059556Z",
     "start_time": "2024-08-09T19:42:35.166234Z"
    }
   },
   "cell_type": "code",
   "source": "sns.relplot(data=df, x='date', y='cases', kind='line')",
   "id": "486653502d0836a5",
   "outputs": [
    {
     "data": {
      "text/plain": [
       "<seaborn.axisgrid.FacetGrid at 0x759232e62d70>"
      ]
     },
     "execution_count": 42,
     "metadata": {},
     "output_type": "execute_result"
    },
    {
     "data": {
      "text/plain": [
       "<Figure size 500x500 with 1 Axes>"
      ],
      "image/png": "[encoded data removed]"
     },
     "metadata": {},
     "output_type": "display_data"
    }
   ],
   "execution_count": 42
  },
  {
   "metadata": {
    "ExecuteTime": {
     "end_time": "2024-08-09T19:43:20.552044Z",
     "start_time": "2024-08-09T19:43:20.540772Z"
    }
   },
   "cell_type": "code",
   "source": [
    "# filter the dataset to contain only those in region VI\n",
    "df_vi = df[df['Region'].str.contains('VI')]\n",
    "df_vi"
   ],
   "id": "33b6809fa3e4e7d8",
   "outputs": [
    {
     "data": {
      "text/plain": [
       "           loc  cases  deaths       date                      Region  year\n",
       "1988     AKLAN     50       0 2016-01-10   REGION VI-WESTERN VISAYAS  2016\n",
       "1989     AKLAN     32       0 2016-01-17   REGION VI-WESTERN VISAYAS  2016\n",
       "1990     AKLAN     32       0 2016-01-24   REGION VI-WESTERN VISAYAS  2016\n",
       "1991     AKLAN     22       0 2016-01-31   REGION VI-WESTERN VISAYAS  2016\n",
       "1992     AKLAN     27       0 2016-02-07   REGION VI-WESTERN VISAYAS  2016\n",
       "...        ...    ...     ...        ...                         ...   ...\n",
       "3156  TACLOBAN      0       0 2016-11-27  REGION VII-EASTERN VISAYAS  2016\n",
       "3157  TACLOBAN      1       0 2016-12-04  REGION VII-EASTERN VISAYAS  2016\n",
       "3158  TACLOBAN      4       0 2016-12-11  REGION VII-EASTERN VISAYAS  2016\n",
       "3159  TACLOBAN      1       0 2016-12-18  REGION VII-EASTERN VISAYAS  2016\n",
       "3160  TACLOBAN      4       0 2016-12-25  REGION VII-EASTERN VISAYAS  2016\n",
       "\n",
       "[1173 rows x 6 columns]"
      ],
      "text/html": [
       "<div>\n",
       "<style scoped>\n",
       "    .dataframe tbody tr th:only-of-type {\n",
       "        vertical-align: middle;\n",
       "    }\n",
       "\n",
       "    .dataframe tbody tr th {\n",
       "        vertical-align: top;\n",
       "    }\n",
       "\n",
       "    .dataframe thead th {\n",
       "        text-align: right;\n",
       "    }\n",
       "</style>\n",
       "<table border=\"1\" class=\"dataframe\">\n",
       "  <thead>\n",
       "    <tr style=\"text-align: right;\">\n",
       "      <th></th>\n",
       "      <th>loc</th>\n",
       "      <th>cases</th>\n",
       "      <th>deaths</th>\n",
       "      <th>date</th>\n",
       "      <th>Region</th>\n",
       "      <th>year</th>\n",
       "    </tr>\n",
       "  </thead>\n",
       "  <tbody>\n",
       "    <tr>\n",
       "      <th>1988</th>\n",
       "      <td>AKLAN</td>\n",
       "      <td>50</td>\n",
       "      <td>0</td>\n",
       "      <td>2016-01-10</td>\n",
       "      <td>REGION VI-WESTERN VISAYAS</td>\n",
       "      <td>2016</td>\n",
       "    </tr>\n",
       "    <tr>\n",
       "      <th>1989</th>\n",
       "      <td>AKLAN</td>\n",
       "      <td>32</td>\n",
       "      <td>0</td>\n",
       "      <td>2016-01-17</td>\n",
       "      <td>REGION VI-WESTERN VISAYAS</td>\n",
       "      <td>2016</td>\n",
       "    </tr>\n",
       "    <tr>\n",
       "      <th>1990</th>\n",
       "      <td>AKLAN</td>\n",
       "      <td>32</td>\n",
       "      <td>0</td>\n",
       "      <td>2016-01-24</td>\n",
       "      <td>REGION VI-WESTERN VISAYAS</td>\n",
       "      <td>2016</td>\n",
       "    </tr>\n",
       "    <tr>\n",
       "      <th>1991</th>\n",
       "      <td>AKLAN</td>\n",
       "      <td>22</td>\n",
       "      <td>0</td>\n",
       "      <td>2016-01-31</td>\n",
       "      <td>REGION VI-WESTERN VISAYAS</td>\n",
       "      <td>2016</td>\n",
       "    </tr>\n",
       "    <tr>\n",
       "      <th>1992</th>\n",
       "      <td>AKLAN</td>\n",
       "      <td>27</td>\n",
       "      <td>0</td>\n",
       "      <td>2016-02-07</td>\n",
       "      <td>REGION VI-WESTERN VISAYAS</td>\n",
       "      <td>2016</td>\n",
       "    </tr>\n",
       "    <tr>\n",
       "      <th>...</th>\n",
       "      <td>...</td>\n",
       "      <td>...</td>\n",
       "      <td>...</td>\n",
       "      <td>...</td>\n",
       "      <td>...</td>\n",
       "      <td>...</td>\n",
       "    </tr>\n",
       "    <tr>\n",
       "      <th>3156</th>\n",
       "      <td>TACLOBAN</td>\n",
       "      <td>0</td>\n",
       "      <td>0</td>\n",
       "      <td>2016-11-27</td>\n",
       "      <td>REGION VII-EASTERN VISAYAS</td>\n",
       "      <td>2016</td>\n",
       "    </tr>\n",
       "    <tr>\n",
       "      <th>3157</th>\n",
       "      <td>TACLOBAN</td>\n",
       "      <td>1</td>\n",
       "      <td>0</td>\n",
       "      <td>2016-12-04</td>\n",
       "      <td>REGION VII-EASTERN VISAYAS</td>\n",
       "      <td>2016</td>\n",
       "    </tr>\n",
       "    <tr>\n",
       "      <th>3158</th>\n",
       "      <td>TACLOBAN</td>\n",
       "      <td>4</td>\n",
       "      <td>0</td>\n",
       "      <td>2016-12-11</td>\n",
       "      <td>REGION VII-EASTERN VISAYAS</td>\n",
       "      <td>2016</td>\n",
       "    </tr>\n",
       "    <tr>\n",
       "      <th>3159</th>\n",
       "      <td>TACLOBAN</td>\n",
       "      <td>1</td>\n",
       "      <td>0</td>\n",
       "      <td>2016-12-18</td>\n",
       "      <td>REGION VII-EASTERN VISAYAS</td>\n",
       "      <td>2016</td>\n",
       "    </tr>\n",
       "    <tr>\n",
       "      <th>3160</th>\n",
       "      <td>TACLOBAN</td>\n",
       "      <td>4</td>\n",
       "      <td>0</td>\n",
       "      <td>2016-12-25</td>\n",
       "      <td>REGION VII-EASTERN VISAYAS</td>\n",
       "      <td>2016</td>\n",
       "    </tr>\n",
       "  </tbody>\n",
       "</table>\n",
       "<p>1173 rows × 6 columns</p>\n",
       "</div>"
      ]
     },
     "execution_count": 45,
     "metadata": {},
     "output_type": "execute_result"
    }
   ],
   "execution_count": 45
  },
  {
   "metadata": {
    "ExecuteTime": {
     "end_time": "2024-08-09T19:46:08.070152Z",
     "start_time": "2024-08-09T19:46:08.062258Z"
    }
   },
   "cell_type": "code",
   "source": [
    "# filter to only contain iloilo\n",
    "df_iloilo = df_vi[df_vi['loc'].str.lower().str.contains('iloilo')]\n",
    "df_iloilo"
   ],
   "id": "d598770050d61066",
   "outputs": [
    {
     "data": {
      "text/plain": [
       "              loc  cases  deaths       date                     Region  year\n",
       "2243       ILOILO     41       1 2016-01-10  REGION VI-WESTERN VISAYAS  2016\n",
       "2244       ILOILO     53       0 2016-01-17  REGION VI-WESTERN VISAYAS  2016\n",
       "2245       ILOILO     57       0 2016-01-24  REGION VI-WESTERN VISAYAS  2016\n",
       "2246       ILOILO     65       0 2016-01-31  REGION VI-WESTERN VISAYAS  2016\n",
       "2247       ILOILO     53       0 2016-02-07  REGION VI-WESTERN VISAYAS  2016\n",
       "...           ...    ...     ...        ...                        ...   ...\n",
       "2340  ILOILO CITY     17       0 2016-11-27  REGION VI-WESTERN VISAYAS  2016\n",
       "2341  ILOILO CITY     14       0 2016-12-04  REGION VI-WESTERN VISAYAS  2016\n",
       "2342  ILOILO CITY     13       0 2016-12-11  REGION VI-WESTERN VISAYAS  2016\n",
       "2343  ILOILO CITY      4       0 2016-12-18  REGION VI-WESTERN VISAYAS  2016\n",
       "2344  ILOILO CITY     10       0 2016-12-25  REGION VI-WESTERN VISAYAS  2016\n",
       "\n",
       "[102 rows x 6 columns]"
      ],
      "text/html": [
       "<div>\n",
       "<style scoped>\n",
       "    .dataframe tbody tr th:only-of-type {\n",
       "        vertical-align: middle;\n",
       "    }\n",
       "\n",
       "    .dataframe tbody tr th {\n",
       "        vertical-align: top;\n",
       "    }\n",
       "\n",
       "    .dataframe thead th {\n",
       "        text-align: right;\n",
       "    }\n",
       "</style>\n",
       "<table border=\"1\" class=\"dataframe\">\n",
       "  <thead>\n",
       "    <tr style=\"text-align: right;\">\n",
       "      <th></th>\n",
       "      <th>loc</th>\n",
       "      <th>cases</th>\n",
       "      <th>deaths</th>\n",
       "      <th>date</th>\n",
       "      <th>Region</th>\n",
       "      <th>year</th>\n",
       "    </tr>\n",
       "  </thead>\n",
       "  <tbody>\n",
       "    <tr>\n",
       "      <th>2243</th>\n",
       "      <td>ILOILO</td>\n",
       "      <td>41</td>\n",
       "      <td>1</td>\n",
       "      <td>2016-01-10</td>\n",
       "      <td>REGION VI-WESTERN VISAYAS</td>\n",
       "      <td>2016</td>\n",
       "    </tr>\n",
       "    <tr>\n",
       "      <th>2244</th>\n",
       "      <td>ILOILO</td>\n",
       "      <td>53</td>\n",
       "      <td>0</td>\n",
       "      <td>2016-01-17</td>\n",
       "      <td>REGION VI-WESTERN VISAYAS</td>\n",
       "      <td>2016</td>\n",
       "    </tr>\n",
       "    <tr>\n",
       "      <th>2245</th>\n",
       "      <td>ILOILO</td>\n",
       "      <td>57</td>\n",
       "      <td>0</td>\n",
       "      <td>2016-01-24</td>\n",
       "      <td>REGION VI-WESTERN VISAYAS</td>\n",
       "      <td>2016</td>\n",
       "    </tr>\n",
       "    <tr>\n",
       "      <th>2246</th>\n",
       "      <td>ILOILO</td>\n",
       "      <td>65</td>\n",
       "      <td>0</td>\n",
       "      <td>2016-01-31</td>\n",
       "      <td>REGION VI-WESTERN VISAYAS</td>\n",
       "      <td>2016</td>\n",
       "    </tr>\n",
       "    <tr>\n",
       "      <th>2247</th>\n",
       "      <td>ILOILO</td>\n",
       "      <td>53</td>\n",
       "      <td>0</td>\n",
       "      <td>2016-02-07</td>\n",
       "      <td>REGION VI-WESTERN VISAYAS</td>\n",
       "      <td>2016</td>\n",
       "    </tr>\n",
       "    <tr>\n",
       "      <th>...</th>\n",
       "      <td>...</td>\n",
       "      <td>...</td>\n",
       "      <td>...</td>\n",
       "      <td>...</td>\n",
       "      <td>...</td>\n",
       "      <td>...</td>\n",
       "    </tr>\n",
       "    <tr>\n",
       "      <th>2340</th>\n",
       "      <td>ILOILO CITY</td>\n",
       "      <td>17</td>\n",
       "      <td>0</td>\n",
       "      <td>2016-11-27</td>\n",
       "      <td>REGION VI-WESTERN VISAYAS</td>\n",
       "      <td>2016</td>\n",
       "    </tr>\n",
       "    <tr>\n",
       "      <th>2341</th>\n",
       "      <td>ILOILO CITY</td>\n",
       "      <td>14</td>\n",
       "      <td>0</td>\n",
       "      <td>2016-12-04</td>\n",
       "      <td>REGION VI-WESTERN VISAYAS</td>\n",
       "      <td>2016</td>\n",
       "    </tr>\n",
       "    <tr>\n",
       "      <th>2342</th>\n",
       "      <td>ILOILO CITY</td>\n",
       "      <td>13</td>\n",
       "      <td>0</td>\n",
       "      <td>2016-12-11</td>\n",
       "      <td>REGION VI-WESTERN VISAYAS</td>\n",
       "      <td>2016</td>\n",
       "    </tr>\n",
       "    <tr>\n",
       "      <th>2343</th>\n",
       "      <td>ILOILO CITY</td>\n",
       "      <td>4</td>\n",
       "      <td>0</td>\n",
       "      <td>2016-12-18</td>\n",
       "      <td>REGION VI-WESTERN VISAYAS</td>\n",
       "      <td>2016</td>\n",
       "    </tr>\n",
       "    <tr>\n",
       "      <th>2344</th>\n",
       "      <td>ILOILO CITY</td>\n",
       "      <td>10</td>\n",
       "      <td>0</td>\n",
       "      <td>2016-12-25</td>\n",
       "      <td>REGION VI-WESTERN VISAYAS</td>\n",
       "      <td>2016</td>\n",
       "    </tr>\n",
       "  </tbody>\n",
       "</table>\n",
       "<p>102 rows × 6 columns</p>\n",
       "</div>"
      ]
     },
     "execution_count": 55,
     "metadata": {},
     "output_type": "execute_result"
    }
   ],
   "execution_count": 55
  },
  {
   "metadata": {
    "ExecuteTime": {
     "end_time": "2024-08-09T19:46:18.749593Z",
     "start_time": "2024-08-09T19:46:18.517483Z"
    }
   },
   "cell_type": "code",
   "source": "sns.relplot(data=df_iloilo, x='date', y='cases', kind='line', hue = \"loc\")",
   "id": "a2868d0684bfe5ad",
   "outputs": [
    {
     "data": {
      "text/plain": [
       "<seaborn.axisgrid.FacetGrid at 0x7592330abc70>"
      ]
     },
     "execution_count": 56,
     "metadata": {},
     "output_type": "execute_result"
    },
    {
     "data": {
      "text/plain": [
       "<Figure size 629.25x500 with 1 Axes>"
      ],
      "image/png": "[encoded data removed]"
     },
     "metadata": {},
     "output_type": "display_data"
    }
   ],
   "execution_count": 56
  },
  {
   "metadata": {},
   "cell_type": "code",
   "outputs": [],
   "execution_count": null,
   "source": "",
   "id": "758c900c82792d32"
  }
 ],
 "metadata": {
  "kernelspec": {
   "display_name": "Python 3",
   "language": "python",
   "name": "python3"
  },
  "language_info": {
   "codemirror_mode": {
    "name": "ipython",
    "version": 2
   },
   "file_extension": ".py",
   "mimetype": "text/x-python",
   "name": "python",
   "nbconvert_exporter": "python",
   "pygments_lexer": "ipython2",
   "version": "2.7.6"
  }
 },
 "nbformat": 4,
 "nbformat_minor": 5
}
